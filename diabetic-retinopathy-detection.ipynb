{
 "cells": [
  {
   "cell_type": "code",
   "execution_count": 1,
   "metadata": {
    "_cell_guid": "b1076dfc-b9ad-4769-8c92-a6c4dae69d19",
    "_uuid": "8f2839f25d086af736a60e9eeb907d3b93b6e0e5",
    "scrolled": true
   },
   "outputs": [],
   "source": [
    "# https://www.pyimagesearch.com/2017/NUM_CLASSES/11/image-classification-with-keras-and-deep-learning/\n",
    "# https://machinelearningmastery.com/grid-search-hyperparameters-deep-learning-models-python-keras/\n",
    "# https://machinelearningmastery.com/save-load-keras-deep-learning-models/\n",
    "#https://www.learnopencv.com/image-classification-using-convolutional-neural-networks-in-keras/\n",
    "\n",
    "import numpy as np # linear algebra\n",
    "import pandas as pd # data processing, CSV file I/O (e.g. pd.read_csv)\n",
    "import os\n",
    "import random\n",
    "import sys\n",
    "import cv2\n",
    "import matplotlib\n",
    "from subprocess import check_output\n",
    "\n",
    "from keras.models import Sequential\n",
    "from keras.layers import Dense, Conv2D, MaxPooling2D, Dropout, Flatten\n",
    "from keras.preprocessing.image import ImageDataGenerator, array_to_img, img_to_array, load_img\n",
    "from keras.optimizers import Adam\n",
    "from sklearn.model_selection import train_test_split\n",
    "from keras.utils import to_categorical\n",
    "#list the files in the input directory\n",
    "#print(os.listdir(\"../input\"))\n",
    "#print(check_output([\"ls\", \"../input\"]).decode(\"utf8\")) #trainLabels.csv\n",
    "#print(check_output([\"pwd\", \"\"]).decode(\"utf8\")) # /kaggle/working/\n",
    "#classes : 0 - No DR, 1 - Mild, 2 - Moderate, 3 - Severe, 4 - Proliferative DR\n",
    "def classes_to_int(label):\n",
    "    # label = classes.index(dir)\n",
    "    label = label.strip()\n",
    "    if label == \"No DR\":  return 0\n",
    "    if label == \"Mild\":  return 1\n",
    "    if label == \"Moderate\":  return 2\n",
    "    if label == \"Severe\":  return 3\n",
    "    if label == \"Proliferative DR\":  return 4\n",
    "    print(\"Invalid Label\", label)\n",
    "    return 5\n",
    "\n",
    "def int_to_classes(i):\n",
    "    if i == 0: return \"No DR\"\n",
    "    elif i == 1: return \"Mild\"\n",
    "    elif i == 2: return \"Moderate\"\n",
    "    elif i == 3: return \"Severe\"\n",
    "    elif i == 4: return \"Proliferative DR\"\n",
    "    print(\"Invalid class \", i)\n",
    "    return \"Invalid Class\""
   ]
  },
  {
   "cell_type": "code",
   "execution_count": 2,
   "metadata": {
    "_uuid": "a8392f068f3887a4ef107e51530e2eb05fb3035a"
   },
   "outputs": [],
   "source": [
    "NUM_CLASSES = 5\n",
    "# we need images of same size so we convert them into the size\n",
    "WIDTH = 128\n",
    "HEIGHT = 128\n",
    "DEPTH = 3\n",
    "inputShape = (HEIGHT, WIDTH, DEPTH)\n",
    "# initialize number of epochs to train for, initial learning rate and batch size\n",
    "EPOCHS = 15\n",
    "INIT_LR = 1e-3\n",
    "BS = 32\n",
    "#global variables\n",
    "ImageNameDataHash = {}\n",
    "uniquePatientIDList = []"
   ]
  },
  {
   "cell_type": "code",
   "execution_count": 3,
   "metadata": {
    "_uuid": "18c3c3a9599a32a49199918bef643166cde51928"
   },
   "outputs": [],
   "source": [
    "def readTrainData(trainDir):\n",
    "    global ImageNameDataHash\n",
    "    # loop over the input images\n",
    "    images = os.listdir(trainDir)\n",
    "    print(\"Number of files in \" + trainDir + \" is \" + str(len(images)))\n",
    "    for imageFileName in images:\n",
    "        if (imageFileName == \"trainLabels.csv\"):\n",
    "            continue\n",
    "        # load the image, pre-process it, and store it in the data list\n",
    "        imageFullPath = os.path.join(os.path.sep, trainDir, imageFileName)\n",
    "        #print(imageFullPath)\n",
    "        img = load_img(imageFullPath)\n",
    "        arr = img_to_array(img)  # Numpy array with shape (233,233,3)\n",
    "        dim1 = arr.shape[0]\n",
    "        dim2 = arr.shape[1]\n",
    "        dim3 = arr.shape[2]\n",
    "        if (dim1 < HEIGHT or dim2 < WIDTH or dim3 < DEPTH):\n",
    "            print(\"Error image dimensions are less than expected \"+str(arr.shape))\n",
    "        arr = cv2.resize(arr, (HEIGHT,WIDTH)) #Numpy array with shape (HEIGHT, WIDTH,3)\n",
    "        #print(arr.shape) # 128,128,3\n",
    "        dim1 = arr.shape[0]\n",
    "        dim2 = arr.shape[1]\n",
    "        dim3 = arr.shape[2]\n",
    "        if (dim1 != HEIGHT or dim2 != WIDTH or dim3 != DEPTH):\n",
    "            print(\"Error after resize, image dimensions are not equal to expected \"+str(arr.shape))\n",
    "        #print(type(arr))\n",
    "        # scale the raw pixel intensities to the range [0, 1] - TBD TEST\n",
    "        arr = np.array(arr, dtype=\"float\") / 255.0\n",
    "        imageFileName = imageFileName.replace('.jpeg','')\n",
    "        ImageNameDataHash[str(imageFileName)] = np.array(arr) \n",
    "    return"
   ]
  },
  {
   "cell_type": "code",
   "execution_count": 16,
   "metadata": {
    "_uuid": "a255507029c703ab70b7bd82e2dba11487abf73a"
   },
   "outputs": [
    {
     "name": "stdout",
     "output_type": "stream",
     "text": [
      "Loading images at...2021-05-16 11:19:57.989866\n",
      "Number of files in /Users/sanjeev/Dropbox/My Mac (Sanjeevs-MBP)/Downloads/Case Study/sample/ is 2116\n",
      "Loaded 3055 images at...2021-05-16 11:26:46.111216\n"
     ]
    }
   ],
   "source": [
    "from datetime import datetime\n",
    "print(\"Loading images at...\"+ str(datetime.now()))\n",
    "sys.stdout.flush()\n",
    "readTrainData(\"/Users/sanjeev/Dropbox/My Mac (Sanjeevs-MBP)/Downloads/Case Study/sample/\")\n",
    "print(\"Loaded \" + str(len(ImageNameDataHash)) + \" images at...\"+ str(datetime.now())) # 1000"
   ]
  },
  {
   "cell_type": "code",
   "execution_count": 17,
   "metadata": {
    "_cell_guid": "79c7e3d0-c299-4dcb-8224-4455121ee9b0",
    "_uuid": "d629ff2d2480ee46fbb7e2d37f6b5fab8052498a"
   },
   "outputs": [],
   "source": [
    "import csv\n",
    "def readTrainCsv():\n",
    "    raw_df = pd.read_csv('trainLabels.csv', sep=',')\n",
    "    print(type(raw_df)) #<class 'pandas.core.frame.DataFrame'>\n",
    "    row_count=raw_df.shape[0] #gives number of row count row_count=35126 \n",
    "    col_count=raw_df.shape[1] #gives number of col count col count=2\n",
    "    print(\"row_count=\"+str(row_count)+\" col count=\"+str(col_count))\n",
    "    raw_df[\"PatientID\"] = ''\n",
    "    header_list = list(raw_df.columns)\n",
    "    print(header_list) # ['image', 'level', 'PatientID']\n",
    "    # double check if level of left and right are same or not\n",
    "    ImageLevelHash = {}\n",
    "    patientIDList = []\n",
    "    for index, row in raw_df.iterrows():\n",
    "        # 0 is image, 1 is level, 2 is PatientID, 3 is data\n",
    "        key = row[0] + ''\n",
    "        patientID = row[0] + ''\n",
    "        patientID = patientID.replace('_right','')\n",
    "        patientID = patientID.replace('_left','')\n",
    "        #print(\"Adding patient ID\"+ patientID)\n",
    "        raw_df.at[index, 'PatientID'] = patientID\n",
    "        patientIDList.append(patientID)\n",
    "        ImageLevelHash[key] = str(row[1]) # level\n",
    "                \n",
    "    global uniquePatientIDList\n",
    "    uniquePatientIDList = sorted(set(patientIDList))\n",
    "    count=0;\n",
    "    for patientID in uniquePatientIDList:\n",
    "        left_level = ImageLevelHash[str(patientID+'_left')]\n",
    "        right_level = ImageLevelHash[str(patientID+'_right')]\n",
    "        #right_exists = str(patientID+'_right') in raw_df.values\n",
    "        if (left_level != right_level):\n",
    "            count = count+1\n",
    "            #print(\"Warning for patient=\"+ str(patientID) + \" left_level=\" + left_level+ \" right_level=\" +right_level)\n",
    "    print(\"count of images with both left and right eye level not matching=\"+str(count)) # 2240\n",
    "    print(\"number of unique patients=\"+str(len(uniquePatientIDList))) # 17563\n",
    "    return raw_df"
   ]
  },
  {
   "cell_type": "code",
   "execution_count": 18,
   "metadata": {
    "_uuid": "da157990920eda7c89bd96f6457cf2696d45b01b",
    "scrolled": true
   },
   "outputs": [
    {
     "name": "stdout",
     "output_type": "stream",
     "text": [
      "Reading trainLabels.csv...\n",
      "<class 'pandas.core.frame.DataFrame'>\n",
      "row_count=35126 col count=2\n",
      "['image', 'level', 'PatientID']\n",
      "count of images with both left and right eye level not matching=2240\n",
      "number of unique patients=17563\n"
     ]
    }
   ],
   "source": [
    "random.seed(10)\n",
    "print(\"Reading trainLabels.csv...\")\n",
    "df = readTrainCsv()"
   ]
  },
  {
   "cell_type": "code",
   "execution_count": 19,
   "metadata": {
    "_uuid": "bbceaf7b7abd5a2c2f562b63f2ead55c00e451e2"
   },
   "outputs": [
    {
     "name": "stdout",
     "output_type": "stream",
     "text": [
      "0 patient's patientID=10\n",
      "1 patient's patientID=10\n",
      "2 patient's patientID=13\n",
      "3 patient's patientID=13\n",
      "4 patient's patientID=15\n",
      "5 patient's patientID=15\n",
      "6 patient's patientID=16\n",
      "7 patient's patientID=16\n",
      "8 patient's patientID=17\n",
      "9 patient's patientID=17\n"
     ]
    }
   ],
   "source": [
    "for i in range(0,10):\n",
    "    s = df.loc[df.index[i], 'PatientID'] # get patient id of patients\n",
    "    print(str(i) + \" patient's patientID=\"+str(s))"
   ]
  },
  {
   "cell_type": "code",
   "execution_count": 20,
   "metadata": {
    "_uuid": "98a5849022c032a33b2d75f54ec2d05da2cd9245"
   },
   "outputs": [
    {
     "name": "stdout",
     "output_type": "stream",
     "text": [
      "3055\n"
     ]
    }
   ],
   "source": [
    "# df has 3 columns ['image', 'level', 'PatientID']\n",
    "keepImages =  list(ImageNameDataHash.keys())\n",
    "df = df[df['image'].isin(keepImages)]\n",
    "print(len(df)) # 1000"
   ]
  },
  {
   "cell_type": "code",
   "execution_count": 21,
   "metadata": {
    "_uuid": "2d8c229035728a04562a428aed1b685974e172e8"
   },
   "outputs": [
    {
     "name": "stdout",
     "output_type": "stream",
     "text": [
      "['image', 'data']\n",
      "3055\n"
     ]
    }
   ],
   "source": [
    "#convert hash to dataframe\n",
    "imageNameArr = []\n",
    "dataArr = []\n",
    "for index, row in df.iterrows():\n",
    "    key = str(row[0])\n",
    "    if key in ImageNameDataHash:\n",
    "        imageNameArr.append(key)\n",
    "        dataArr.append(np.array(ImageNameDataHash[key])) # np.array\n",
    "\n",
    "df2 = pd.DataFrame({'image': imageNameArr, 'data': dataArr})\n",
    "df2_header_list = list(df2.columns) \n",
    "print(df2_header_list) # ['image', 'data']\n",
    "print(len(df2)) # 1000\n",
    "#print(df2.describe(include='all'))\n",
    "#print(df2.sample(3)) # 3 rows x 2 columns"
   ]
  },
  {
   "cell_type": "code",
   "execution_count": 22,
   "metadata": {
    "_uuid": "ea37d7a5dffecdb0744c223090c98c91ee097ccf"
   },
   "outputs": [
    {
     "name": "stdout",
     "output_type": "stream",
     "text": [
      "image    object\n",
      "data     object\n",
      "dtype: object\n",
      "image        object\n",
      "level         int64\n",
      "PatientID    object\n",
      "dtype: object\n"
     ]
    }
   ],
   "source": [
    "if len(df) != len(df2):\n",
    "    print(\"Error length of df != df2\")\n",
    "    \n",
    "for idx in range(0,len(df)):\n",
    "    if (df.loc[df.index[idx], 'image'] != df2.loc[df2.index[idx], 'image']):\n",
    "        print(\"Error \" + df.loc[df.index[idx], 'image'] +\"==\" + df2.loc[df2.index[idx], 'image'])\n",
    "        \n",
    "print(df2.dtypes)\n",
    "print(df.dtypes)"
   ]
  },
  {
   "cell_type": "code",
   "execution_count": 23,
   "metadata": {
    "_uuid": "c3fd926f29c25be1bd728da76c175e283b1fac83"
   },
   "outputs": [
    {
     "name": "stdout",
     "output_type": "stream",
     "text": [
      "['image', 'data', 'level', 'PatientID']\n",
      "3055\n",
      "           image                                               data  level  \\\n",
      "2244  22079_left  [[[0.0, 0.0, 0.0], [0.0, 0.0, 0.0], [0.0, 0.0,...      0   \n",
      "\n",
      "     PatientID  \n",
      "2244     22079  \n"
     ]
    }
   ],
   "source": [
    "df = pd.merge(df2, df, left_on='image', right_on='image', how='outer')\n",
    "df_header_list = list(df.columns) \n",
    "print(df_header_list) # 'image', 'data', level', 'PatientID'\n",
    "print(len(df)) # 1000\n",
    "print(df.sample())"
   ]
  },
  {
   "cell_type": "code",
   "execution_count": 24,
   "metadata": {
    "_uuid": "25fd586d9cc4b7a1beeb2e8c7cdee896f068b8c6"
   },
   "outputs": [
    {
     "name": "stdout",
     "output_type": "stream",
     "text": [
      "[[[0. 0. 0.]\n",
      "  [0. 0. 0.]\n",
      "  [0. 0. 0.]\n",
      "  ...\n",
      "  [0. 0. 0.]\n",
      "  [0. 0. 0.]\n",
      "  [0. 0. 0.]]\n",
      "\n",
      " [[0. 0. 0.]\n",
      "  [0. 0. 0.]\n",
      "  [0. 0. 0.]\n",
      "  ...\n",
      "  [0. 0. 0.]\n",
      "  [0. 0. 0.]\n",
      "  [0. 0. 0.]]\n",
      "\n",
      " [[0. 0. 0.]\n",
      "  [0. 0. 0.]\n",
      "  [0. 0. 0.]\n",
      "  ...\n",
      "  [0. 0. 0.]\n",
      "  [0. 0. 0.]\n",
      "  [0. 0. 0.]]\n",
      "\n",
      " ...\n",
      "\n",
      " [[0. 0. 0.]\n",
      "  [0. 0. 0.]\n",
      "  [0. 0. 0.]\n",
      "  ...\n",
      "  [0. 0. 0.]\n",
      "  [0. 0. 0.]\n",
      "  [0. 0. 0.]]\n",
      "\n",
      " [[0. 0. 0.]\n",
      "  [0. 0. 0.]\n",
      "  [0. 0. 0.]\n",
      "  ...\n",
      "  [0. 0. 0.]\n",
      "  [0. 0. 0.]\n",
      "  [0. 0. 0.]]\n",
      "\n",
      " [[0. 0. 0.]\n",
      "  [0. 0. 0.]\n",
      "  [0. 0. 0.]\n",
      "  ...\n",
      "  [0. 0. 0.]\n",
      "  [0. 0. 0.]\n",
      "  [0. 0. 0.]]]\n",
      "<class 'numpy.ndarray'>\n",
      "(128, 128, 3)\n"
     ]
    },
    {
     "data": {
      "image/png": "[encoded data removed]",
      "text/plain": [
       "<Figure size 432x288 with 1 Axes>"
      ]
     },
     "metadata": {
      "needs_background": "light"
     },
     "output_type": "display_data"
    },
    {
     "name": "stdout",
     "output_type": "stream",
     "text": [
      "Sample Image\n"
     ]
    }
   ],
   "source": [
    "sample0 = df.loc[df.index[0], 'data']\n",
    "print(sample0)\n",
    "print(type(sample0)) # <class 'numpy.ndarray'>\n",
    "print(sample0.shape) # 128,128,3\n",
    "from matplotlib import pyplot as plt\n",
    "plt.imshow(sample0, interpolation='nearest')\n",
    "plt.show()\n",
    "print(\"Sample Image\")"
   ]
  },
  {
   "cell_type": "code",
   "execution_count": 25,
   "metadata": {
    "_uuid": "5de4e16737d21bd5c842e3b3fe7ca16b3177f76a"
   },
   "outputs": [],
   "source": [
    "X = df['data']\n",
    "Y = df['level']\n",
    "# scale the raw pixel intensities to the range [0, 1]\n",
    "#print(type(X)) # 'pandas.core.series.Series'\n",
    "#X = np.array(X, dtype=\"float\") / 255.0 -- TBD moved to top\n",
    "Y = np.array(Y)\n",
    "# convert the labels from integers to vectors\n",
    "Y =  to_categorical(Y, num_classes=NUM_CLASSES)"
   ]
  },
  {
   "cell_type": "code",
   "execution_count": 26,
   "metadata": {
    "_uuid": "4550440da8759c52ed43bfe0737bfa2684e7583c"
   },
   "outputs": [
    {
     "name": "stdout",
     "output_type": "stream",
     "text": [
      "Parttition data into 75:25...\n",
      "Unique patients in dataframe df=1925\n",
      "unique_ids shape=1925\n",
      "trainid_list shape= 1443\n"
     ]
    }
   ],
   "source": [
    "# partition the data into training and testing splits using 75% training and 25% for validation\n",
    "print(\"Parttition data into 75:25...\")\n",
    "sys.stdout.flush()\n",
    "print(\"Unique patients in dataframe df=\" + str(df.PatientID.nunique())) # 500\n",
    "unique_ids = df.PatientID.unique()\n",
    "print('unique_ids shape='+ str(len(unique_ids))) #500\n",
    "\n",
    "# Refer https://www.kaggle.com/kmader/tf-data-tutorial-with-retina-and-keras\n",
    "train_ids, valid_ids = train_test_split(unique_ids, test_size = 0.25, random_state = 10) #stratify = rr_df['level'])\n",
    "trainid_list = train_ids.tolist()\n",
    "print('trainid_list shape=', str(len(trainid_list))) # 375\n",
    "\n",
    "traindf = df[df.PatientID.isin(trainid_list)]\n",
    "valSet = df[~df.PatientID.isin(trainid_list)]"
   ]
  },
  {
   "cell_type": "code",
   "execution_count": 27,
   "metadata": {
    "_uuid": "07f4a9232379f1c7057f9921ad372266caadd887"
   },
   "outputs": [
    {
     "name": "stdout",
     "output_type": "stream",
     "text": [
      "      image                                               data  level  \\\n",
      "0   10_left  [[[0.0, 0.0, 0.0], [0.0, 0.0, 0.0], [0.0, 0.0,...      0   \n",
      "1  10_right  [[[0.0, 0.0, 0.0], [0.0, 0.0, 0.0], [0.0, 0.0,...      0   \n",
      "4   15_left  [[[0.0, 0.0, 0.0], [0.0, 0.0, 0.0], [0.0, 0.0,...      1   \n",
      "5  15_right  [[[0.0, 0.0, 0.0], [0.0, 0.0, 0.0], [0.0, 0.0,...      2   \n",
      "6   16_left  [[[0.0, 0.0, 0.0], [0.0, 0.0, 0.0], [0.0, 0.0,...      4   \n",
      "\n",
      "  PatientID  \n",
      "0        10  \n",
      "1        10  \n",
      "4        15  \n",
      "5        15  \n",
      "6        16  \n",
      "        image                                               data  level  \\\n",
      "2     13_left  [[[0.0, 0.0, 0.0], [0.0, 0.0, 0.0], [0.0, 0.0,...      0   \n",
      "3    13_right  [[[0.0, 0.0, 0.0], [0.0, 0.0, 0.0], [0.0, 0.0,...      0   \n",
      "19   195_left  [[[0.0, 0.0, 0.0], [0.0, 0.0, 0.0], [0.0, 0.0,...      2   \n",
      "20  195_right  [[[0.0, 0.0, 0.0], [0.0, 0.0, 0.0], [0.0, 0.0,...      2   \n",
      "21   197_left  [[[0.0, 0.0, 0.0], [0.0, 0.0, 0.0], [0.0, 0.0,...      0   \n",
      "\n",
      "   PatientID  \n",
      "2         13  \n",
      "3         13  \n",
      "19       195  \n",
      "20       195  \n",
      "21       197  \n",
      "      image                                               data  level  \\\n",
      "0   10_left  [[[0.0, 0.0, 0.0], [0.0, 0.0, 0.0], [0.0, 0.0,...      0   \n",
      "1  10_right  [[[0.0, 0.0, 0.0], [0.0, 0.0, 0.0], [0.0, 0.0,...      0   \n",
      "2   15_left  [[[0.0, 0.0, 0.0], [0.0, 0.0, 0.0], [0.0, 0.0,...      1   \n",
      "3  15_right  [[[0.0, 0.0, 0.0], [0.0, 0.0, 0.0], [0.0, 0.0,...      2   \n",
      "4   16_left  [[[0.0, 0.0, 0.0], [0.0, 0.0, 0.0], [0.0, 0.0,...      4   \n",
      "\n",
      "  PatientID  \n",
      "0        10  \n",
      "1        10  \n",
      "2        15  \n",
      "3        15  \n",
      "4        16  \n",
      "       image                                               data  level  \\\n",
      "0    13_left  [[[0.0, 0.0, 0.0], [0.0, 0.0, 0.0], [0.0, 0.0,...      0   \n",
      "1   13_right  [[[0.0, 0.0, 0.0], [0.0, 0.0, 0.0], [0.0, 0.0,...      0   \n",
      "2   195_left  [[[0.0, 0.0, 0.0], [0.0, 0.0, 0.0], [0.0, 0.0,...      2   \n",
      "3  195_right  [[[0.0, 0.0, 0.0], [0.0, 0.0, 0.0], [0.0, 0.0,...      2   \n",
      "4   197_left  [[[0.0, 0.0, 0.0], [0.0, 0.0, 0.0], [0.0, 0.0,...      0   \n",
      "\n",
      "  PatientID  \n",
      "0        13  \n",
      "1        13  \n",
      "2       195  \n",
      "3       195  \n",
      "4       197  \n"
     ]
    }
   ],
   "source": [
    "print(traindf.head())\n",
    "print(valSet.head())\n",
    "\n",
    "traindf = traindf.reset_index(drop=True)\n",
    "valSet = valSet.reset_index(drop=True)\n",
    "\n",
    "print(traindf.head())\n",
    "print(valSet.head())"
   ]
  },
  {
   "cell_type": "code",
   "execution_count": 28,
   "metadata": {
    "_uuid": "19f9a8d5aba3229deecf254d2db0b7e5c5cbd81f"
   },
   "outputs": [
    {
     "name": "stdout",
     "output_type": "stream",
     "text": [
      "trainX shape= 2285 valX shape= 770\n"
     ]
    }
   ],
   "source": [
    "trainX = traindf['data']\n",
    "trainY = traindf['level']\n",
    "\n",
    "valX = valSet['data']\n",
    "valY = valSet['level']\n",
    "\n",
    "#(trainX, valX, trainY, valY) = train_test_split(X,Y,test_size=0.25, random_state=10)\n",
    "print('trainX shape=', trainX.shape[0], 'valX shape=', valX.shape[0]) # 750, 250"
   ]
  },
  {
   "cell_type": "code",
   "execution_count": 29,
   "metadata": {
    "_uuid": "6673e914026947e96d26318834ed6ac914ab4e9d"
   },
   "outputs": [],
   "source": [
    "trainY =  to_categorical(trainY, num_classes=NUM_CLASSES)\n",
    "valY =  to_categorical(valY, num_classes=NUM_CLASSES)"
   ]
  },
  {
   "cell_type": "code",
   "execution_count": 30,
   "metadata": {
    "_uuid": "8925ee30a9086c36f0e8f7cc88ff24e177870051"
   },
   "outputs": [
    {
     "name": "stdout",
     "output_type": "stream",
     "text": [
      "Generating images...\n"
     ]
    }
   ],
   "source": [
    "#construct the image generator for data augmentation\n",
    "print(\"Generating images...\")\n",
    "sys.stdout.flush()\n",
    "aug = ImageDataGenerator(rotation_range=30, width_shift_range=0.1, \\\n",
    "    height_shift_range=0.1, shear_range=0.2, zoom_range=0.2,\\\n",
    "    horizontal_flip=True, fill_mode=\"nearest\")"
   ]
  },
  {
   "cell_type": "code",
   "execution_count": 35,
   "metadata": {
    "_uuid": "ff8002067d4fb19fd8ef9634f3bab2a8daa35b1a"
   },
   "outputs": [],
   "source": [
    "def createModel():\n",
    "    model = Sequential()\n",
    "    # first set of CONV => RELU => MAX POOL layers\n",
    "    model.add(Conv2D(32, (3, 3), padding='same', activation='relu', input_shape=inputShape))\n",
    "    model.add(Conv2D(32, (3, 3), activation='relu'))\n",
    "    model.add(MaxPooling2D(pool_size=(2, 2)))\n",
    "    model.add(Dropout(0.25))\n",
    "    \n",
    "    model.add(Conv2D(64, (3, 3), padding='same', activation='relu'))\n",
    "    model.add(Conv2D(64, (3, 3), activation='relu'))\n",
    "    model.add(MaxPooling2D(pool_size=(2, 2)))\n",
    "    model.add(Dropout(0.25))\n",
    "    \n",
    "    model.add(Conv2D(64, (3, 3), padding='same', activation='relu'))\n",
    "    model.add(Conv2D(64, (3, 3), activation='relu'))\n",
    "    model.add(MaxPooling2D(pool_size=(2, 2)))\n",
    "    model.add(Dropout(0.25))\n",
    "    \n",
    "    model.add(Flatten())\n",
    "    model.add(Dense(512, activation='relu'))\n",
    "    model.add(Dropout(0.5))\n",
    "    model.add(Dense(NUM_CLASSES, activation='softmax'))\n",
    "    # returns our fully constructed deep learning + Keras image classifier \n",
    "    opt = Adam(lr=INIT_LR, decay=INIT_LR / EPOCHS)\n",
    "    # use binary_crossentropy if there are two classes\n",
    "    model.compile(loss=\"categorical_crossentropy\", optimizer=opt, metrics=[\"accuracy\"])\n",
    "    return model"
   ]
  },
  {
   "cell_type": "code",
   "execution_count": 36,
   "metadata": {
    "_uuid": "55ee93f18f850e1fb144e578778a3b5420637684"
   },
   "outputs": [
    {
     "name": "stdout",
     "output_type": "stream",
     "text": [
      "Reshaping trainX at...2021-05-16 11:34:04.726253\n",
      "<class 'pandas.core.series.Series'>\n",
      "(2285,)\n",
      "(2285, 128, 128, 3)\n",
      "Reshaped trainX at...2021-05-16 11:34:05.570767\n"
     ]
    }
   ],
   "source": [
    "print(\"Reshaping trainX at...\"+ str(datetime.now()))\n",
    "#print(trainX.sample()) \n",
    "print(type(trainX)) # <class 'pandas.core.series.Series'>\n",
    "print(trainX.shape) # (750,)\n",
    "from numpy import zeros\n",
    "Xtrain = np.zeros([trainX.shape[0],HEIGHT, WIDTH, DEPTH])\n",
    "for i in range(trainX.shape[0]): # 0 to traindf Size -1\n",
    "    Xtrain[i] = trainX[i]\n",
    "print(Xtrain.shape) # (750,128,128,3)\n",
    "print(\"Reshaped trainX at...\"+ str(datetime.now()))"
   ]
  },
  {
   "cell_type": "code",
   "execution_count": 37,
   "metadata": {
    "_uuid": "2f61c84f7f96522c7355bd126c8722676c8e3836"
   },
   "outputs": [
    {
     "name": "stdout",
     "output_type": "stream",
     "text": [
      "Reshaping valX at...2021-05-16 11:34:07.343697\n",
      "<class 'pandas.core.series.Series'>\n",
      "(770,)\n",
      "(770, 128, 128, 3)\n",
      "Reshaped valX at...2021-05-16 11:34:07.574750\n"
     ]
    }
   ],
   "source": [
    "print(\"Reshaping valX at...\"+ str(datetime.now()))\n",
    "print(type(valX)) # <class 'pandas.core.series.Series'>\n",
    "print(valX.shape) # (250,)\n",
    "from numpy import zeros\n",
    "Xval = np.zeros([valX.shape[0],HEIGHT, WIDTH, DEPTH])\n",
    "for i in range(valX.shape[0]): # 0 to traindf Size -1\n",
    "    Xval[i] = valX[i]\n",
    "print(Xval.shape) # (250,128,128,3)\n",
    "print(\"Reshaped valX at...\"+ str(datetime.now()))"
   ]
  },
  {
   "cell_type": "code",
   "execution_count": 61,
   "metadata": {
    "_uuid": "6a66f5862854d1b03730a172f38ef25465fd2421"
   },
   "outputs": [
    {
     "name": "stdout",
     "output_type": "stream",
     "text": [
      "compiling model...\n",
      "Model: \"sequential_15\"\n",
      "_________________________________________________________________\n",
      "Layer (type)                 Output Shape              Param #   \n",
      "=================================================================\n",
      "conv2d_90 (Conv2D)           (None, 128, 128, 32)      896       \n",
      "_________________________________________________________________\n",
      "conv2d_91 (Conv2D)           (None, 126, 126, 32)      9248      \n",
      "_________________________________________________________________\n",
      "max_pooling2d_45 (MaxPooling (None, 63, 63, 32)        0         \n",
      "_________________________________________________________________\n",
      "dropout_60 (Dropout)         (None, 63, 63, 32)        0         \n",
      "_________________________________________________________________\n",
      "conv2d_92 (Conv2D)           (None, 63, 63, 64)        18496     \n",
      "_________________________________________________________________\n",
      "conv2d_93 (Conv2D)           (None, 61, 61, 64)        36928     \n",
      "_________________________________________________________________\n",
      "max_pooling2d_46 (MaxPooling (None, 30, 30, 64)        0         \n",
      "_________________________________________________________________\n",
      "dropout_61 (Dropout)         (None, 30, 30, 64)        0         \n",
      "_________________________________________________________________\n",
      "conv2d_94 (Conv2D)           (None, 30, 30, 64)        36928     \n",
      "_________________________________________________________________\n",
      "conv2d_95 (Conv2D)           (None, 28, 28, 64)        36928     \n",
      "_________________________________________________________________\n",
      "max_pooling2d_47 (MaxPooling (None, 14, 14, 64)        0         \n",
      "_________________________________________________________________\n",
      "dropout_62 (Dropout)         (None, 14, 14, 64)        0         \n",
      "_________________________________________________________________\n",
      "flatten_15 (Flatten)         (None, 12544)             0         \n",
      "_________________________________________________________________\n",
      "dense_29 (Dense)             (None, 512)               6423040   \n",
      "_________________________________________________________________\n",
      "dropout_63 (Dropout)         (None, 512)               0         \n",
      "_________________________________________________________________\n",
      "dense_30 (Dense)             (None, 5)                 2565      \n",
      "=================================================================\n",
      "Total params: 6,565,029\n",
      "Trainable params: 6,565,029\n",
      "Non-trainable params: 0\n",
      "_________________________________________________________________\n"
     ]
    }
   ],
   "source": [
    "# initialize the model\n",
    "print(\"compiling model...\")\n",
    "sys.stdout.flush()\n",
    "model = createModel()\n",
    "model.summary()\n"
   ]
  },
  {
   "cell_type": "code",
   "execution_count": 69,
   "metadata": {
    "_uuid": "701909840ec8ee1f5da90a8cac0902d880d4f79a"
   },
   "outputs": [
    {
     "name": "stdout",
     "output_type": "stream",
     "text": [
      "training network...\n"
     ]
    },
    {
     "name": "stderr",
     "output_type": "stream",
     "text": [
      "/Library/Frameworks/Python.framework/Versions/3.8/lib/python3.8/site-packages/tensorflow/python/keras/engine/training.py:1844: UserWarning: `Model.fit_generator` is deprecated and will be removed in a future version. Please use `Model.fit`, which supports generators.\n",
      "  warnings.warn('`Model.fit_generator` is deprecated and '\n"
     ]
    },
    {
     "name": "stdout",
     "output_type": "stream",
     "text": [
      "Epoch 1/15\n",
      "72/72 [==============================] - 52s 717ms/step - loss: 0.8475 - accuracy: 0.7479 - val_loss: 0.8102 - val_accuracy: 0.7455\n",
      "Epoch 2/15\n",
      "72/72 [==============================] - 61s 846ms/step - loss: 0.8547 - accuracy: 0.7479 - val_loss: 0.8328 - val_accuracy: 0.7455\n",
      "Epoch 3/15\n",
      "72/72 [==============================] - 66s 910ms/step - loss: 0.8482 - accuracy: 0.7479 - val_loss: 0.8133 - val_accuracy: 0.7455\n",
      "\n",
      "Epoch 00003: ReduceLROnPlateau reducing learning rate to 0.0005000000237487257.\n",
      "Epoch 4/15\n",
      "72/72 [==============================] - 66s 912ms/step - loss: 0.8433 - accuracy: 0.7479 - val_loss: 0.8170 - val_accuracy: 0.7455\n",
      "Epoch 5/15\n",
      "72/72 [==============================] - 84s 1s/step - loss: 0.8455 - accuracy: 0.7479 - val_loss: 0.8119 - val_accuracy: 0.7455\n",
      "\n",
      "Epoch 00005: ReduceLROnPlateau reducing learning rate to 0.0002500000118743628.\n",
      "Epoch 6/15\n",
      "72/72 [==============================] - 79s 1s/step - loss: 0.8407 - accuracy: 0.7479 - val_loss: 0.8107 - val_accuracy: 0.7455\n",
      "Epoch 7/15\n",
      "72/72 [==============================] - 81s 1s/step - loss: 0.8399 - accuracy: 0.7479 - val_loss: 0.8104 - val_accuracy: 0.7455\n",
      "\n",
      "Epoch 00007: ReduceLROnPlateau reducing learning rate to 0.0001250000059371814.\n",
      "Epoch 8/15\n",
      "72/72 [==============================] - 71s 987ms/step - loss: 0.8365 - accuracy: 0.7479 - val_loss: 0.8143 - val_accuracy: 0.7455\n",
      "Epoch 9/15\n",
      "72/72 [==============================] - 72s 1s/step - loss: 0.8381 - accuracy: 0.7479 - val_loss: 0.8128 - val_accuracy: 0.7455\n",
      "\n",
      "Epoch 00009: ReduceLROnPlateau reducing learning rate to 6.25000029685907e-05.\n",
      "Epoch 10/15\n",
      "72/72 [==============================] - 76s 1s/step - loss: 0.8329 - accuracy: 0.7479 - val_loss: 0.8114 - val_accuracy: 0.7455\n",
      "Epoch 11/15\n",
      "72/72 [==============================] - 88s 1s/step - loss: 0.8410 - accuracy: 0.7479 - val_loss: 0.8111 - val_accuracy: 0.7455\n",
      "\n",
      "Epoch 00011: ReduceLROnPlateau reducing learning rate to 3.125000148429535e-05.\n",
      "Epoch 12/15\n",
      "72/72 [==============================] - 87s 1s/step - loss: 0.8375 - accuracy: 0.7479 - val_loss: 0.8116 - val_accuracy: 0.7455\n",
      "Epoch 13/15\n",
      "72/72 [==============================] - 79s 1s/step - loss: 0.8409 - accuracy: 0.7479 - val_loss: 0.8110 - val_accuracy: 0.7455\n",
      "\n",
      "Epoch 00013: ReduceLROnPlateau reducing learning rate to 1.5625000742147677e-05.\n",
      "Epoch 14/15\n",
      "72/72 [==============================] - 88s 1s/step - loss: 0.8336 - accuracy: 0.7479 - val_loss: 0.8106 - val_accuracy: 0.7455\n",
      "Epoch 15/15\n",
      "72/72 [==============================] - 96s 1s/step - loss: 0.8411 - accuracy: 0.7479 - val_loss: 0.8110 - val_accuracy: 0.7455\n",
      "\n",
      "Epoch 00015: ReduceLROnPlateau reducing learning rate to 1e-05.\n",
      "Saving model to disk\n",
      "INFO:tensorflow:Assets written to: /tmp/mymodel/assets\n"
     ]
    }
   ],
   "source": [
    "# train the network\n",
    "from keras.callbacks import ReduceLROnPlateau\n",
    "print(\"training network...\")\n",
    "sys.stdout.flush()\n",
    "learning_rate_reduction = ReduceLROnPlateau(monitor='val_accuracy', patience = 2, verbose=1,factor=0.5, min_lr=0.00001)\n",
    "#class_mode ='categorical', # 2D one-hot encoded labels\n",
    "H = model.fit_generator(aug.flow(Xtrain, trainY, batch_size=BS), \\\n",
    "    validation_data=(Xval, valY), \\\n",
    "    epochs=EPOCHS, callbacks = [learning_rate_reduction])\n",
    "#history = model.fit(datagen.flow(x_train,y_train, batch_size = 128) ,epochs = 20 , validation_data = (x_test, y_test) , callbacks = [learning_rate_reduction])\n",
    "# save the model to disk\n",
    "print(\"Saving model to disk\")\n",
    "sys.stdout.flush()\n",
    "model.save(\"/tmp/mymodel\")"
   ]
  },
  {
   "cell_type": "code",
   "execution_count": 70,
   "metadata": {},
   "outputs": [
    {
     "name": "stdout",
     "output_type": "stream",
     "text": [
      "25/25 [==============================] - 5s 179ms/step - loss: 0.8110 - accuracy: 0.7455\n",
      "Accuracy of the model is -  74.54545497894287 %\n"
     ]
    }
   ],
   "source": [
    "print(\"Accuracy of the model is - \" , model.evaluate(Xval,valY)[1]*100 , \"%\")"
   ]
  },
  {
   "cell_type": "code",
   "execution_count": 75,
   "metadata": {
    "_uuid": "ebaac96c16fc39a6665ac3e8917ca856029f12dc"
   },
   "outputs": [
    {
     "name": "stdout",
     "output_type": "stream",
     "text": [
      "Generating plots...\n"
     ]
    },
    {
     "data": {
      "image/png": "[encoded data removed]",
      "text/plain": [
       "<Figure size 432x288 with 1 Axes>"
      ]
     },
     "metadata": {},
     "output_type": "display_data"
    }
   ],
   "source": [
    "# set the matplotlib backend so figures can be saved in the background\n",
    "# plot the training loss and accuracy\n",
    "print(\"Generating plots...\")\n",
    "sys.stdout.flush()\n",
    "matplotlib.use(\"Agg\")\n",
    "matplotlib.pyplot.style.use(\"ggplot\")\n",
    "matplotlib.pyplot.figure()\n",
    "N = EPOCHS\n",
    "matplotlib.pyplot.plot(np.arange(0, N), H.history[\"loss\"], label=\"train_loss\")\n",
    "matplotlib.pyplot.plot(np.arange(0, N), H.history[\"val_loss\"], label=\"val_loss\")\n",
    "matplotlib.pyplot.plot(np.arange(0, N), H.history[\"accuracy\"], label=\"train_acc\")\n",
    "matplotlib.pyplot.plot(np.arange(0, N), H.history[\"val_accuracy\"], label=\"val_acc\")\n",
    "matplotlib.pyplot.title(\"Training Loss and Accuracy on diabetic retinopathy detection\")\n",
    "matplotlib.pyplot.xlabel(\"Epoch #\")\n",
    "matplotlib.pyplot.ylabel(\"Loss/Accuracy\")\n",
    "matplotlib.pyplot.legend(loc=\"lower left\")\n",
    "matplotlib.pyplot.savefig(\"plot.png\")"
   ]
  },
  {
   "cell_type": "code",
   "execution_count": null,
   "metadata": {},
   "outputs": [],
   "source": []
  }
 ],
 "metadata": {
  "kernelspec": {
   "display_name": "Python 3",
   "language": "python",
   "name": "python3"
  },
  "language_info": {
   "codemirror_mode": {
    "name": "ipython",
    "version": 3
   },
   "file_extension": ".py",
   "mimetype": "text/x-python",
   "name": "python",
   "nbconvert_exporter": "python",
   "pygments_lexer": "ipython3",
   "version": "3.8.5"
  }
 },
 "nbformat": 4,
 "nbformat_minor": 1
}
